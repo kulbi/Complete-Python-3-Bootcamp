{
 "cells": [
  {
   "cell_type": "code",
   "execution_count": 19,
   "metadata": {},
   "outputs": [
    {
     "name": "stdout",
     "output_type": "stream",
     "text": [
      "{2, 3, 4}\n",
      "wygrales kurwa\n"
     ]
    }
   ],
   "source": [
    "dupa = {3, 2, 4}.intersection({1, 5, 4, 2, 7, 3, 2, 3, 4})\n",
    "\n",
    "print(dupa)\n",
    "\n",
    "\n",
    "pos_to_check = [9, 6, 8, 7, 12]\n",
    "winning_configurations = [{7, 8, 9}]\n",
    "\n",
    "if len(winning_configurations[0].intersection(pos_to_check)) == 3:\n",
    "    print('wygrales kurwa')"
   ]
  },
  {
   "cell_type": "code",
   "execution_count": 22,
   "metadata": {},
   "outputs": [],
   "source": [
    "mylist = [1,2,3]\n",
    "mylist."
   ]
  }
 ],
 "metadata": {
  "kernelspec": {
   "display_name": "Python 3.9.12 ('base')",
   "language": "python",
   "name": "python3"
  },
  "language_info": {
   "name": "python",
   "version": "3.9.12"
  },
  "orig_nbformat": 4,
  "vscode": {
   "interpreter": {
    "hash": "b8ff52905adc40f8d0fca322748b498db73f9a37951f87fa436f1e8248098db8"
   }
  }
 },
 "nbformat": 4,
 "nbformat_minor": 2
}
