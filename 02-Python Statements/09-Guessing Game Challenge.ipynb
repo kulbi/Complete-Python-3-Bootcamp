{
 "cells": [
  {
   "cell_type": "markdown",
   "metadata": {},
   "source": [
    "___\n",
    "\n",
    "<a href='https://www.udemy.com/user/joseportilla/'><img src='../Pierian_Data_Logo.png'/></a>\n",
    "___\n",
    "<center><em>Content Copyright by Pierian Data</em></center>"
   ]
  },
  {
   "cell_type": "markdown",
   "metadata": {},
   "source": [
    "# Guessing Game Challenge\n",
    "\n",
    "Let's use `while` loops to create a guessing game.\n",
    "\n",
    "The Challenge:\n",
    "\n",
    "Write a program that picks a random integer from 1 to 100, and has players guess the number. The rules are:\n",
    "\n",
    "1. If a player's guess is less than 1 or greater than 100, say \"OUT OF BOUNDS\"\n",
    "2. On a player's first turn, if their guess is\n",
    " * within 10 of the number, return \"WARM!\"\n",
    " * further than 10 away from the number, return \"COLD!\"\n",
    "3. On all subsequent turns, if a guess is \n",
    " * closer to the number than the previous guess return \"WARMER!\"\n",
    " * farther from the number than the previous guess, return \"COLDER!\"\n",
    "4. When the player's guess equals the number, tell them they've guessed correctly *and* how many guesses it took!\n",
    "\n",
    "You can try this from scratch, or follow the steps outlined below. A separate Solution notebook has been provided. Good luck!\n"
   ]
  },
  {
   "cell_type": "markdown",
   "metadata": {},
   "source": [
    "#### First, pick a random integer from 1 to 100 using the random module and assign it to a variable\n",
    "\n",
    "Note: `random.randint(a,b)` returns a random integer in range `[a, b]`, including both end points."
   ]
  },
  {
   "cell_type": "code",
   "execution_count": 42,
   "metadata": {
    "collapsed": true
   },
   "outputs": [
    {
     "name": "stdout",
     "output_type": "stream",
     "text": [
      "40\n",
      "COLD KURWA\n",
      "cooolder XD\n",
      "cooolder XD\n",
      "WARMEEEERRR XD\n",
      "cooolder XD\n",
      "cooolder XD\n",
      "cooolder XD\n",
      "cooolder XD\n",
      "WARMEEEERRR XD\n"
     ]
    },
    {
     "ename": "ValueError",
     "evalue": "invalid literal for int() with base 10: ''",
     "output_type": "error",
     "traceback": [
      "\u001b[1;31m---------------------------------------------------------------------------\u001b[0m",
      "\u001b[1;31mValueError\u001b[0m                                Traceback (most recent call last)",
      "Cell \u001b[1;32mIn [42], line 22\u001b[0m\n\u001b[0;32m     20\u001b[0m x2 \u001b[38;5;241m=\u001b[39m \u001b[38;5;241m0\u001b[39m\n\u001b[0;32m     21\u001b[0m \u001b[38;5;28;01mwhile\u001b[39;00m x \u001b[38;5;241m!=\u001b[39m guess_me:\n\u001b[1;32m---> 22\u001b[0m     x \u001b[38;5;241m=\u001b[39m \u001b[38;5;28;43mint\u001b[39;49m\u001b[43m(\u001b[49m\u001b[38;5;28;43minput\u001b[39;49m\u001b[43m(\u001b[49m\u001b[38;5;124;43m'\u001b[39;49m\u001b[38;5;124;43mtell me your guess again my friend\u001b[39;49m\u001b[38;5;124;43m'\u001b[39;49m\u001b[43m)\u001b[49m\u001b[43m)\u001b[49m\n\u001b[0;32m     23\u001b[0m     \u001b[38;5;28;01mwhile\u001b[39;00m x2 \u001b[38;5;241m==\u001b[39m x:\n\u001b[0;32m     24\u001b[0m         x \u001b[38;5;241m=\u001b[39m \u001b[38;5;28minput\u001b[39m(\u001b[38;5;124m'\u001b[39m\u001b[38;5;124mdej jakas nowa liczbe\u001b[39m\u001b[38;5;124m'\u001b[39m)\n",
      "\u001b[1;31mValueError\u001b[0m: invalid literal for int() with base 10: ''"
     ]
    }
   ],
   "source": [
    "import random, sys\n",
    "\n",
    "while True:\n",
    "    guess_me = random.randint(1, 100)\n",
    "    print(guess_me)\n",
    "    x = int(input('tell me your guess my friend'))\n",
    "\n",
    "    if x == guess_me:\n",
    "        print('trafiony zatoiony kurwa za pierwszym razem XD')\n",
    "        break\n",
    "        \n",
    "    if (x < 1 or x > 101):\n",
    "        print('OUT OF BOUNDS KURWA')\n",
    "        break\n",
    "    if abs(guess_me - x) < 10:\n",
    "        print(\"WARM KURWA\")\n",
    "    else:\n",
    "        print(\"COLD KURWA\")\n",
    "        diff = abs(guess_me - x)\n",
    "    x2 = 0\n",
    "    while x != guess_me:\n",
    "        x = int(input('tell me your guess again my friend'))\n",
    "        while x2 == x:\n",
    "            x = input('dej jakas nowa liczbe')\n",
    "        x2 = x\n",
    "        if abs(guess_me - x) < diff:\n",
    "            print('WARMEEEERRR XD')\n",
    "        else:\n",
    "            print('cooolder XD')\n",
    "\n",
    "    print('no chyba pykło')\n",
    "    break\n",
    "\n"
   ]
  },
  {
   "cell_type": "markdown",
   "metadata": {},
   "source": [
    "#### Next, print an introduction to the game and explain the rules"
   ]
  },
  {
   "cell_type": "code",
   "execution_count": null,
   "metadata": {
    "collapsed": true
   },
   "outputs": [],
   "source": []
  },
  {
   "cell_type": "markdown",
   "metadata": {},
   "source": [
    "#### Create a list to store guesses\n",
    "\n",
    "Hint: zero is a good placeholder value. It's useful because it evaluates to \"False\""
   ]
  },
  {
   "cell_type": "code",
   "execution_count": null,
   "metadata": {
    "collapsed": true
   },
   "outputs": [],
   "source": []
  },
  {
   "cell_type": "markdown",
   "metadata": {},
   "source": [
    "#### Write a `while` loop that asks for a valid guess. Test it a few times to make sure it works."
   ]
  },
  {
   "cell_type": "code",
   "execution_count": null,
   "metadata": {
    "collapsed": true
   },
   "outputs": [],
   "source": [
    "while True:\n",
    "\n",
    "    pass\n"
   ]
  },
  {
   "cell_type": "markdown",
   "metadata": {},
   "source": [
    "#### Write a `while` loop that compares the player's guess to our number. If the player guesses correctly, break from the loop. Otherwise, tell the player if they're warmer or colder, and continue asking for guesses.\n",
    "\n",
    "Some hints:\n",
    "* it may help to sketch out all possible combinations on paper first!\n",
    "* you can use the `abs()` function to find the positive difference between two numbers\n",
    "* if you append all new guesses to the list, then the previous guess is given as `guesses[-2]`"
   ]
  },
  {
   "cell_type": "code",
   "execution_count": null,
   "metadata": {
    "collapsed": true
   },
   "outputs": [],
   "source": [
    "while True:\n",
    "\n",
    "    # we can copy the code from above to take an input\n",
    "\n",
    "    pass\n"
   ]
  },
  {
   "cell_type": "markdown",
   "metadata": {},
   "source": [
    "That's it! You've just programmed your first game!\n",
    "\n",
    "In the next section we'll learn how to turn some of these repetitive actions into *functions* that can be called whenever we need them."
   ]
  },
  {
   "cell_type": "markdown",
   "metadata": {},
   "source": [
    "### Good Job!"
   ]
  }
 ],
 "metadata": {
  "kernelspec": {
   "display_name": "Python 3.10.7 64-bit",
   "language": "python",
   "name": "python3"
  },
  "language_info": {
   "codemirror_mode": {
    "name": "ipython",
    "version": 3
   },
   "file_extension": ".py",
   "mimetype": "text/x-python",
   "name": "python",
   "nbconvert_exporter": "python",
   "pygments_lexer": "ipython3",
   "version": "3.10.7"
  },
  "vscode": {
   "interpreter": {
    "hash": "ea1cc3d960a5c0c3756835b80e613fda72ac7b051d444d428c7d7a9d032b5cb9"
   }
  }
 },
 "nbformat": 4,
 "nbformat_minor": 2
}
